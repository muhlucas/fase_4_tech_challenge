{
  "nbformat": 4,
  "nbformat_minor": 0,
  "metadata": {
    "colab": {
      "provenance": [],
      "toc_visible": true,
      "include_colab_link": true
    },
    "kernelspec": {
      "name": "python3",
      "display_name": "Python 3 (ipykernel)",
      "language": "python"
    },
    "language_info": {
      "name": "python"
    }
  },
  "cells": [
    {
      "cell_type": "markdown",
      "metadata": {
        "id": "view-in-github",
        "colab_type": "text"
      },
      "source": [
        "<a href=\"https://colab.research.google.com/github/pedro21900/fase_4_tech_challenge/blob/main/fase_4_tech_challenge.ipynb\" target=\"_parent\"><img src=\"https://colab.research.google.com/assets/colab-badge.svg\" alt=\"Open In Colab\"/></a>"
      ]
    },
    {
      "metadata": {
        "id": "3F1hrFgmarPS"
      },
      "cell_type": "markdown",
      "source": [
        "## Tech Challenge Fase 4 🎓\n",
        "\n",
        "### Sobre a base de dados 🎲\n",
        "\n",
        "A base de dados do **yfinance** (Yahoo Finance) é uma API em Python que fornece acesso a uma ampla gama de informações financeiras do mercado. Ela permite obter dados históricos de preços de ações,fundos, modedas e criptomoedas, bem  como informações fundamentais e estatísticas de mercado, como:\n",
        "\n",
        "<ol>\n",
        "    <li><b>Preços históricos:</b> Abertura, fechamento, alta, baixa e volume negociado,com suporte para intevelos variados (dia,semana, mês) </li>\n",
        "    <li><b>Dados fundamentais:<b/> Dividendos, splits de ações, balanços financeiros, lucros e métricas como P/E ratio.</li>\n",
        "    <li><b>Dados em tempo real:</b> Preços de mercado atualizados (dependendo das limitações de atraso e região).</li>\n",
        "    <li><b>Informações de mercado:</b> Volatilidade, beta, valor de mercado e outros indicadores.</li>\n",
        "</ol>    \n",
        "\n",
        "O yfinance pe amplamente ultilizado devido à facilidade de integração com pandas e à abrangência dos daos oferecidos, tornando-se uma ferramente insdispensável para análise quantitativa, estratégica de investimento e pesquisa financeira\n",
        "\n",
        "Objetivo 🚀\n",
        "\n",
        "Desenvolver um modelo preditivo ultilizando redes neurais LSTM (Long Short Term Memory) para predizer o valor de fechamento da bolsa de valores da **Disney**."
      ]
    },
    {
      "metadata": {
        "id": "oVRj6bpTarPX"
      },
      "cell_type": "markdown",
      "source": [
        "### Instalando Bibliotecas"
      ]
    },
    {
      "metadata": {
        "ExecuteTime": {
          "end_time": "2024-11-29T00:32:46.338461Z",
          "start_time": "2024-11-29T00:20:17.595855Z"
        },
        "id": "PXXFkf48arPX"
      },
      "cell_type": "code",
      "source": [
        "!pip install mlflow\n",
        "!pip install pandas\n",
        "!pip install matplotlib\n",
        "!pip install numpy\n",
        "!pip install scikit-learn\n",
        "!pip install torch\n",
        "!pip install seaborn"
      ],
      "outputs": [],
      "execution_count": null
    },
    {
      "metadata": {
        "id": "m05Pb9rwarPZ"
      },
      "cell_type": "markdown",
      "source": [
        "### Importando bibliotecas"
      ]
    },
    {
      "metadata": {
        "id": "BaASgT5darPa"
      },
      "cell_type": "code",
      "outputs": [],
      "execution_count": 2,
      "source": [
        "import torch\n",
        "import torch.nn as nn\n",
        "import torch.optim as optim\n",
        "from torch.utils.data import Dataset, DataLoader\n",
        "import mlflow\n",
        "import mlflow.pytorch\n",
        "import numpy as np\n",
        "import yfinance as yf\n",
        "import matplotlib.pyplot as plt\n",
        "from sklearn.preprocessing import StandardScaler,MinMaxScaler\n",
        "import pandas as pd\n",
        "from pandas import DataFrame\n",
        "import seaborn as sns\n",
        "from sklearn.metrics import accuracy_score, precision_score, f1_score\n",
        "import joblib\n",
        "import os\n",
        "\n",
        "PATH = './resources'"
      ]
    },
    {
      "metadata": {
        "id": "Z1XeGzyMarPb"
      },
      "cell_type": "markdown",
      "source": [
        "### Baixando dataset do yfinance\n",
        "\n",
        "Este techo de código configura o **yfinance** para baixar o histórico de 01/01/2018 a 20/07/2024 do ticket **'DIS' (Disney)**"
      ]
    },
    {
      "cell_type": "code",
      "source": [
        "# Baixar os dados históricos para o ticker PETR4\n",
        "df = yf.download('DIS')\n",
        "len(df)"
      ],
      "metadata": {
        "id": "bNzAeLif312y",
        "outputId": "96667b49-cb81-4d75-faba-30718876c21f",
        "colab": {
          "base_uri": "https://localhost:8080/"
        }
      },
      "execution_count": 3,
      "outputs": [
        {
          "output_type": "stream",
          "name": "stderr",
          "text": [
            "\r[*********************100%***********************]  1 of 1 completed\n"
          ]
        },
        {
          "output_type": "execute_result",
          "data": {
            "text/plain": [
              "15837"
            ]
          },
          "metadata": {},
          "execution_count": 3
        }
      ]
    },
    {
      "metadata": {
        "id": "jOgKNnOjarPd"
      },
      "cell_type": "markdown",
      "source": [
        "### Análise dos dados\n",
        "\n",
        "Neste trecho, plotamos o volume anual, onde é possível observar que, em 2021, houve um aumento significativamente fora do padrão, podendo ser considerado um outlier."
      ]
    },
    {
      "cell_type": "code",
      "source": [
        "timeseries = df[[\"Volume\"]].values.astype('float32')\n",
        "\n",
        "plt.plot(df.index, timeseries)\n",
        "plt.show()"
      ],
      "metadata": {
        "id": "UNN3P2oFqVul",
        "outputId": "8a5d42a1-bccd-4e2f-c65e-6ebf3c2beea2",
        "colab": {
          "base_uri": "https://localhost:8080/",
          "height": 445
        }
      },
      "execution_count": 4,
      "outputs": [
        {
          "output_type": "display_data",
          "data": {
            "text/plain": [
              "<Figure size 640x480 with 1 Axes>"
            ],
            "image/png": "[encoded data removed]"
          },
          "metadata": {}
        }
      ]
    },
    {
      "metadata": {
        "id": "CACkZLnQarPd"
      },
      "cell_type": "markdown",
      "source": [
        "Neste trecho, plotamos o heatmap para encontrar a combinação mais relevante dos dados em relação ao fechamento da bolsa de valores"
      ]
    },
    {
      "metadata": {
        "id": "sa3-qD4WarPd",
        "outputId": "254584dc-70bd-484f-df74-6ebc2ebc955d",
        "colab": {
          "base_uri": "https://localhost:8080/",
          "height": 452
        }
      },
      "cell_type": "code",
      "outputs": [
        {
          "output_type": "execute_result",
          "data": {
            "text/plain": [
              "<Axes: >"
            ]
          },
          "metadata": {},
          "execution_count": 5
        },
        {
          "output_type": "display_data",
          "data": {
            "text/plain": [
              "<Figure size 640x480 with 2 Axes>"
            ],
            "image/png": "[encoded data removed]"
          },
          "metadata": {}
        }
      ],
      "execution_count": 5,
      "source": [
        "df.columns = ['_'.join(col).replace('_DIS', '').strip() if isinstance(col, tuple) else col for col in df.columns]\n",
        "sns.heatmap( df.corr(), annot = True)\n"
      ]
    },
    {
      "cell_type": "markdown",
      "source": [
        "Percebemos que o único campo com uma baixa correlação de informações relevantes é o `volume`, enquanto os demais influenciam diretamente os valores de saída."
      ],
      "metadata": {
        "id": "i5a_HfvEFclw"
      }
    },
    {
      "metadata": {
        "id": "DfTbgUnOarPe"
      },
      "cell_type": "markdown",
      "source": [
        "#### Pré processamento dos dados"
      ]
    },
    {
      "cell_type": "code",
      "source": [
        "# Remoção dos inices de data\n",
        "df =  df.reset_index()\n",
        "df = df.drop(columns=['Date'])\n",
        "\n",
        "# Isolamento dos dados para entra X e saida Y\n",
        "X = df.drop(columns=['Close']).values.astype(np.float32)\n",
        "Y = df[['Close']].values.astype(np.float32)\n",
        "\n",
        "# Normalizando dados\n",
        "scalerX = StandardScaler()\n",
        "scalerY = StandardScaler()\n",
        "X = scalerX.fit_transform(X)\n",
        "Y = scalerY.fit_transform(Y)\n",
        "\n",
        "# Salvando artefato dos normalizadores de dados\n",
        "joblib.dump(scalerX, f'{PATH}/scalerX.pkl')\n",
        "joblib.dump(scalerY, f'{PATH}/scalerY.pkl')"
      ],
      "metadata": {
        "id": "wOGC1AlOPSsQ",
        "colab": {
          "base_uri": "https://localhost:8080/"
        },
        "outputId": "ef9e042a-b760-4909-b0fd-6737e058bdfc"
      },
      "execution_count": 7,
      "outputs": [
        {
          "output_type": "execute_result",
          "data": {
            "text/plain": [
              "['./resources/scalerY.pkl']"
            ]
          },
          "metadata": {},
          "execution_count": 7
        }
      ]
    },
    {
      "cell_type": "markdown",
      "source": [
        "#### Criando diretório para organização dos artefatos"
      ],
      "metadata": {
        "id": "ykkNcm3HF66R"
      }
    },
    {
      "cell_type": "code",
      "source": [
        "try:\n",
        "    os.mkdir(PATH)\n",
        "    print(f\"Directory '{PATH}' created successfully.\")\n",
        "except FileExistsError:\n",
        "    print(f\"Directory '{PATH}' already exists.\")\n"
      ],
      "metadata": {
        "id": "MAzLC_SjEnG7",
        "outputId": "d92f5d1a-2f6e-4b71-b68f-f09252698ba8",
        "colab": {
          "base_uri": "https://localhost:8080/"
        }
      },
      "execution_count": 21,
      "outputs": [
        {
          "output_type": "stream",
          "name": "stdout",
          "text": [
            "Directory './resources' already exists.\n"
          ]
        }
      ]
    },
    {
      "cell_type": "markdown",
      "source": [
        "### Construindo o modelo"
      ],
      "metadata": {
        "id": "NWsEV9FtHxBI"
      }
    },
    {
      "metadata": {
        "id": "AcvvyU8oarPe"
      },
      "cell_type": "markdown",
      "source": [
        "Após algumas tentativas verificamos que essa é a mlehor combinação de hiperparâmetos do modelo"
      ]
    },
    {
      "metadata": {
        "id": "B5Mn9p6AarPe"
      },
      "cell_type": "code",
      "outputs": [],
      "execution_count": 8,
      "source": [
        "input_size = 5\n",
        "hidden_size = 100\n",
        "num_layers = 4\n",
        "output_size = 1\n",
        "learning_rate = 0.01\n",
        "num_epochs = 10\n",
        "batch_size = 64"
      ]
    },
    {
      "metadata": {
        "id": "kbnrTIA8arPf"
      },
      "cell_type": "markdown",
      "source": [
        "#### Criando o modelo RNN com LSTM"
      ]
    },
    {
      "metadata": {
        "id": "Q71nbMpParPf"
      },
      "cell_type": "code",
      "outputs": [],
      "execution_count": 15,
      "source": [
        "# Modelo LSTM com arquitetura sequencial\n",
        "class LSTMModel(nn.Module):\n",
        "    def __init__(self, input_size=5, hidden_size=100, num_layers=4, output_size=1):\n",
        "        super(LSTMModel, self).__init__()\n",
        "        self.lstm = nn.LSTM(input_size, hidden_size, num_layers, batch_first=True)\n",
        "        self.fc = nn.Linear(hidden_size, output_size)\n",
        "\n",
        "\n",
        "    def forward(self, x):\n",
        "        # Passa os dados pelo modelo sequencial\n",
        "        output, _ = self.lstm(x)\n",
        "\n",
        "        return self.fc(output)"
      ]
    },
    {
      "metadata": {
        "id": "afDVX6pTarPf"
      },
      "cell_type": "markdown",
      "source": [
        "#### Convertendo o dataframe para um dataset"
      ]
    },
    {
      "metadata": {
        "id": "y7LG19n_arPf"
      },
      "cell_type": "code",
      "outputs": [],
      "execution_count": 16,
      "source": [
        "# Dataset para treinamento\n",
        "class YfinanceTrainDataset(Dataset):\n",
        "    def __init__(self, x, y):\n",
        "        super(YfinanceTrainDataset, self).__init__()\n",
        "\n",
        "        self.data = x\n",
        "        self.labels = y\n",
        "\n",
        "    def __len__(self):\n",
        "        return len(self.data)\n",
        "\n",
        "    def __getitem__(self, idx):\n",
        "        return torch.tensor(self.data[idx]), torch.tensor(self.labels[idx])"
      ]
    },
    {
      "metadata": {
        "id": "xNkGv943arPf"
      },
      "cell_type": "markdown",
      "source": [
        "#### Configurando treinamento do modelo"
      ]
    },
    {
      "cell_type": "code",
      "source": [
        "# Dispositivo (CPU ou GPU)\n",
        "device = torch.device('cuda' if torch.cuda.is_available() else 'cpu')\n",
        "\n",
        "# Funções de treinamento e avaliação\n",
        "def train_model(train_loader, test_loader):\n",
        "    model = LSTMModel(input_size, hidden_size, num_layers, output_size).to(device)\n",
        "    criterion = nn.MSELoss()\n",
        "    optimizer = optim.Adam(model.parameters(), lr=learning_rate)\n",
        "\n",
        "    mlflow.set_experiment(\"LSTM Artificial Data Regression\")\n",
        "    with mlflow.start_run():\n",
        "        mlflow.log_param(\"input_size\", input_size)\n",
        "        mlflow.log_param(\"hidden_size\", hidden_size)\n",
        "        mlflow.log_param(\"num_layers\", num_layers)\n",
        "        mlflow.log_param(\"output_size\", output_size)\n",
        "        mlflow.log_param(\"num_epochs\", num_epochs)\n",
        "        mlflow.log_param(\"batch_size\", batch_size)\n",
        "        mlflow.log_param(\"learning_rate\", learning_rate)\n",
        "\n",
        "        for epoch in range(num_epochs):\n",
        "            model.train()\n",
        "            running_loss = 0.0\n",
        "\n",
        "            for i, (sequences, labels) in enumerate(train_loader):\n",
        "                sequences, labels = sequences.to(device), labels.to(device)\n",
        "\n",
        "                # Forward pass\n",
        "                outputs = model(sequences)\n",
        "                loss = criterion(outputs, labels)\n",
        "\n",
        "                # Backward pass e otimização\n",
        "                optimizer.zero_grad()\n",
        "                loss.backward()\n",
        "                optimizer.step()\n",
        "\n",
        "                running_loss += loss.item()\n",
        "\n",
        "                if i % 100 == 0:\n",
        "                    print(f\"Epoch [{epoch+1}/{num_epochs}], Step [{i+1}/{len(train_loader)}], Loss: {loss.item():.4f}\")\n",
        "                    mlflow.log_metric(\"train_loss\", running_loss / (i+1), step=epoch * len(train_loader) + i)\n",
        "\n",
        "        mlflow.pytorch.log_model(model, \"lstm_artificial_data_model\")\n",
        "        evaluate_model(model, test_loader)\n",
        "        return model\n",
        "\n",
        "\n",
        "def evaluate_model(model, test_loader):\n",
        "    model.eval()\n",
        "    test_loss = 0.0\n",
        "    with torch.no_grad():\n",
        "        for sequences, labels in test_loader:\n",
        "            sequences, labels = sequences.to(device), labels.to(device)\n",
        "            outputs = model(sequences)\n",
        "            loss = nn.MSELoss()(outputs, labels)\n",
        "            test_loss += loss.item()\n",
        "\n",
        "    average_test_loss = test_loss / len(test_loader)\n",
        "    print(f\"Test Loss: {average_test_loss:.4f}\")\n",
        "    mlflow.log_metric(\"test_loss\", average_test_loss)"
      ],
      "metadata": {
        "id": "I18fT9yhmGJb"
      },
      "execution_count": 17,
      "outputs": []
    },
    {
      "metadata": {
        "id": "ufbihyuparPg",
        "outputId": "499274fe-991e-4bb5-ad72-60b43be66b6e",
        "colab": {
          "base_uri": "https://localhost:8080/"
        }
      },
      "cell_type": "code",
      "outputs": [
        {
          "output_type": "stream",
          "name": "stdout",
          "text": [
            "Epoch [1/10], Step [1/248], Loss: 0.9252\n",
            "Epoch [1/10], Step [101/248], Loss: 0.0109\n",
            "Epoch [1/10], Step [201/248], Loss: 0.0056\n",
            "Epoch [2/10], Step [1/248], Loss: 0.0042\n",
            "Epoch [2/10], Step [101/248], Loss: 0.0004\n",
            "Epoch [2/10], Step [201/248], Loss: 0.0010\n",
            "Epoch [3/10], Step [1/248], Loss: 0.0016\n",
            "Epoch [3/10], Step [101/248], Loss: 0.0007\n",
            "Epoch [3/10], Step [201/248], Loss: 0.0047\n",
            "Epoch [4/10], Step [1/248], Loss: 0.0038\n",
            "Epoch [4/10], Step [101/248], Loss: 0.0019\n",
            "Epoch [4/10], Step [201/248], Loss: 0.0008\n",
            "Epoch [5/10], Step [1/248], Loss: 0.0022\n",
            "Epoch [5/10], Step [101/248], Loss: 0.0003\n",
            "Epoch [5/10], Step [201/248], Loss: 0.0026\n",
            "Epoch [6/10], Step [1/248], Loss: 0.0006\n",
            "Epoch [6/10], Step [101/248], Loss: 0.0008\n",
            "Epoch [6/10], Step [201/248], Loss: 0.0008\n",
            "Epoch [7/10], Step [1/248], Loss: 0.0030\n",
            "Epoch [7/10], Step [101/248], Loss: 0.0031\n",
            "Epoch [7/10], Step [201/248], Loss: 0.0020\n",
            "Epoch [8/10], Step [1/248], Loss: 0.0024\n",
            "Epoch [8/10], Step [101/248], Loss: 0.0016\n",
            "Epoch [8/10], Step [201/248], Loss: 0.0021\n",
            "Epoch [9/10], Step [1/248], Loss: 0.0017\n",
            "Epoch [9/10], Step [101/248], Loss: 0.0008\n",
            "Epoch [9/10], Step [201/248], Loss: 0.0005\n",
            "Epoch [10/10], Step [1/248], Loss: 0.0003\n",
            "Epoch [10/10], Step [101/248], Loss: 0.0008\n",
            "Epoch [10/10], Step [201/248], Loss: 0.0004\n"
          ]
        },
        {
          "output_type": "stream",
          "name": "stderr",
          "text": [
            "2024/11/30 21:52:53 WARNING mlflow.utils.requirements_utils: Found torch version (2.5.1+cu121) contains a local version label (+cu121). MLflow logged a pip requirement for this package as 'torch==2.5.1' without the local version label to make it installable from PyPI. To specify pip requirements containing local version labels, please use `conda_env` or `pip_requirements`.\n",
            "2024/11/30 21:52:59 WARNING mlflow.utils.requirements_utils: Found torch version (2.5.1+cu121) contains a local version label (+cu121). MLflow logged a pip requirement for this package as 'torch==2.5.1' without the local version label to make it installable from PyPI. To specify pip requirements containing local version labels, please use `conda_env` or `pip_requirements`.\n",
            "2024/11/30 21:52:59 WARNING mlflow.models.model: Model logged without a signature and input example. Please set `input_example` parameter when logging the model to auto infer the model signature.\n"
          ]
        },
        {
          "output_type": "stream",
          "name": "stdout",
          "text": [
            "Test Loss: 0.0014\n"
          ]
        }
      ],
      "execution_count": 18,
      "source": [
        "dataset = YfinanceTrainDataset(X, Y)\n",
        "train_loader = DataLoader(dataset, batch_size=batch_size, shuffle=True)\n",
        "test_loader = DataLoader(dataset, batch_size=batch_size, shuffle=False)\n",
        "\n",
        "model = train_model(train_loader, test_loader)\n",
        "torch.save(model.state_dict(), f'{PATH}/model.pt')"
      ]
    },
    {
      "metadata": {
        "id": "Vu_HQc0CarPg"
      },
      "cell_type": "markdown",
      "source": [
        "### Testando modelo\n",
        "\n",
        "Para realizar o teste do modelo, seguimos os seguintes passos:\n",
        "\n",
        "1. **Carregar o modelo treinado**: Utilizamos o PyTorch para carregar os pesos salvos previamente.\n",
        "2. **Carregar os normalizadores de dados**: Lemos os arquivos do `joblib` para normalizar e desnormalizar os dados.\n",
        "3. **Criar dados fictícios para inferência**: Simulamos uma entrada no formato esperado pelo modelo.\n",
        "4. **Normalizar os dados de entrada**: Ajustamos os valores para a escala utilizada durante o treinamento.\n",
        "5. **Converter os dados em tensores**: Transformamos os dados normalizados em tensores PyTorch, compatíveis com o modelo.\n",
        "6. **Realizar a inferência**: Passamos os dados pelo modelo para obter a previsão.\n",
        "7. **Desnormalizar os resultados**: Retornamos os valores para sua escala original, permitindo interpretação.\n"
      ]
    },
    {
      "cell_type": "code",
      "source": [
        "model =  LSTMModel()\n",
        "model.load_state_dict(torch.load(f'{PATH}/model.pt', weights_only=True))\n",
        "model.eval()\n",
        "\n",
        "# Lendo padronizador de dados\n",
        "scalerx = joblib.load(f'{PATH}/scalerX.pkl')\n",
        "scalery = joblib.load(f'{PATH}/scalerY.pkl')\n",
        "\n",
        "# Exemplo de entrada\n",
        "entrada = np.array([[107.875183,\t\t111.809998,\t108.559998,\t108.949997,\t11014300]], dtype=np.float32)\n",
        "\n",
        "# Transformação dos dados\n",
        "entrada_normalizada = scalerx.transform(entrada)\n",
        "\n",
        "# Converte para tensor e ajusta para o formato esperado pelo modelo (batch_size=1, seq_len=1, input_size=4)\n",
        "entrada_tensor = torch.tensor(entrada_normalizada, dtype=torch.float32).unsqueeze(0).to(device)\n",
        "\n",
        "# Obtenha o resultado do modelo\n",
        "result = model(entrada_tensor)  # Certifique-se de que model é uma função ou objeto chamável\n",
        "\n",
        "# Desconecte o tensor do grafo computacional e converta para NumPy\n",
        "result_numpy = result.detach().cpu().numpy()  # Use `.cpu()` se o tensor estiver na GPU\n",
        "\n",
        "# Desnormalização\n",
        "result_desnormalizado = scalery.inverse_transform(result_numpy[0])\n",
        "\n",
        "print(result_desnormalizado)\n"
      ],
      "metadata": {
        "colab": {
          "base_uri": "https://localhost:8080/"
        },
        "id": "7i7RlVCBAEm0",
        "outputId": "73b4e707-30be-4aa4-a976-8ab67f252061"
      },
      "execution_count": 20,
      "outputs": [
        {
          "output_type": "stream",
          "name": "stdout",
          "text": [
            "[[109.70788]]\n"
          ]
        }
      ]
    }
  ]
}